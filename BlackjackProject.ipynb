{
 "cells": [
  {
   "cell_type": "code",
   "execution_count": 1,
   "id": "0c46208a-aed5-4146-ac62-edd0f87f177a",
   "metadata": {},
   "outputs": [],
   "source": [
    "# Libaries to import \n",
    "import random\n",
    "import pandas as pd\n",
    "import matplotlib.pyplot as plt\n",
    "import seaborn as sns"
   ]
  },
  {
   "cell_type": "code",
   "execution_count": 2,
   "id": "9c64f73e-b986-4a0a-b6b3-ebc294e0f743",
   "metadata": {},
   "outputs": [],
   "source": [
    "# All class definitions that will be used to simulate blackjack games\n",
    "\n",
    "class Card: # Standard deck consists of 52 cards [13 cards per suit]\n",
    "    rank_values = {\n",
    "        'Ace': 11,  # Can be 1 or 11, will be handled in a method\n",
    "        'Two': 2,\n",
    "        'Three': 3,\n",
    "        'Four': 4,\n",
    "        'Five': 5,\n",
    "        'Six': 6,\n",
    "        'Seven': 7,\n",
    "        'Eight': 8,\n",
    "        'Nine': 9,\n",
    "        'Ten': 10,\n",
    "        'Jack': 10,\n",
    "        'Queen': 10,\n",
    "        'King': 10\n",
    "    }\n",
    "    \n",
    "    def __init__(self, r, s):\n",
    "        self.rank = r\n",
    "        self.suit = s\n",
    "        self.value = self.rank_values[r]\n",
    "        \n",
    "    def __str__(self):\n",
    "        return f\"{self.rank} of {self.suit}\"\n",
    "\n",
    "\n",
    "\n",
    "class Deck:\n",
    "    suits = ['Hearts', 'Diamonds', 'Clubs', 'Spades']\n",
    "    ranks = ['Ace', 'Two', 'Three', 'Four', 'Five', 'Six', 'Seven', 'Eight', 'Nine', 'Ten', 'Jack', 'Queen', 'King']\n",
    "\n",
    "    def __init__(self):\n",
    "        self.cards = [Card(rank, suit) for rank in self.ranks for suit in self.suits] \n",
    "        self.shuffle()\n",
    "\n",
    "    def shuffle(self):\n",
    "        random.shuffle(self.cards) # shuffling is done with the random library\n",
    "\n",
    "    def deal(self):\n",
    "        if(len(self.cards) == 0):\n",
    "            print(\"No cards left in the deck\")\n",
    "            return\n",
    "        return self.cards.pop() \n",
    "        \n",
    "    def decklist(self):\n",
    "        for card in self.cards:\n",
    "            print(card.rank, \"of\", card.suit)\n",
    "\n",
    "    def __str__(self): \n",
    "        return \"Deck size: \" + str(len(self.cards))\n",
    "\n",
    "\n",
    "        \n",
    "class InfiniteDeck:\n",
    "    suits = ['Hearts', 'Diamonds', 'Clubs', 'Spades']\n",
    "    ranks = ['Ace', 'Two', 'Three', 'Four', 'Five', 'Six', 'Seven', 'Eight', 'Nine', 'Ten', 'Jack', 'Queen', 'King']\n",
    "\n",
    "    def __init__(self):\n",
    "        self.ALL_CARDS = [Card(rank, suit) for rank in self.ranks for suit in self.suits]\n",
    "\n",
    "    def deal(self):\n",
    "        return random.choice(self.ALL_CARDS) \n",
    "\n",
    "\n",
    "\n",
    "class Hand:\n",
    "    def __init__(self):\n",
    "        self.cards = []\n",
    "\n",
    "    def add_card(self, card):\n",
    "        self.cards.append(card)\n",
    "\n",
    "    def total(self):\n",
    "        total = sum(card.value for card in self.cards)\n",
    "        # Handle ace logic\n",
    "        aces = [card for card in self.cards if card.rank == 'Ace']\n",
    "        while total > 21 and aces:\n",
    "            total -= 10\n",
    "            aces.pop()\n",
    "        return total\n",
    "\n",
    "    def total_p4(self): # this total method forces aces to be counted as 1 if the hand total is 14 or less. This will only be used in policy 4.\n",
    "        total = sum(card.value for card in self.cards)\n",
    "        # Handle ace logic\n",
    "        aces = [card for card in self.cards if card.rank == 'Ace']\n",
    "        while total < 15 and aces:\n",
    "            total -= 10\n",
    "            aces.pop()\n",
    "        return total \n",
    "\n",
    "    def is_soft(self):\n",
    "        total = sum(card.value for card in self.cards)\n",
    "        for card in self.cards:\n",
    "            if card.rank == 'Ace':\n",
    "                if total <= 21:\n",
    "                    return True\n",
    "                total -= 10  # Try using ace as 1 instead of 11\n",
    "        return False\n",
    "\n",
    "\n",
    "    def is_blackjack(self):\n",
    "        return len(self.cards) == 2 and self.total() == 21\n",
    "\n",
    "    def is_bust(self):\n",
    "        return self.total() > 21\n",
    "\n",
    "    def show(self, hide_first=False):\n",
    "        if hide_first:\n",
    "            return f\"Hidden | {' | '.join(str(c) for c in self.cards[1:])}\"\n",
    "        return ' | '.join(str(card) for card in self.cards)\n",
    "\n",
    "\n",
    "\n",
    "class Player(Hand):\n",
    "    pass\n",
    "\n",
    "\n",
    "\n",
    "class Dealer(Hand):\n",
    "    def should_hit(self):\n",
    "        return self.total() < 17\n",
    "\n",
    "\n",
    "\n",
    "class Game:\n",
    "    def __init__(self, infinite=False):\n",
    "        self.deck = InfiniteDeck() if infinite else Deck()\n",
    "        self.player = Player()\n",
    "        self.dealer = Dealer()\n",
    "\n",
    "    def initial_deal(self):\n",
    "        for _ in range(2):\n",
    "            self.player.add_card(self.deck.deal())\n",
    "            self.dealer.add_card(self.deck.deal())\n",
    "\n",
    "    def check_dealer_action(self):\n",
    "        while self.dealer.should_hit():\n",
    "            self.dealer.add_card(self.deck.deal())\n",
    "            print(\"Updated Dealer's hand:\", self.dealer.show())\n",
    "            if(self.dealer.is_bust()):\n",
    "                print(\"Dealer busted. Player wins!\")\n",
    "                return\n",
    "        # Dealer stands\n",
    "        # compare dealer total to player total to determine who wins\n",
    "        if self.dealer.total() > self.player.total():\n",
    "            print(\"Dealer wins!\")\n",
    "        elif self.dealer.total() < self.player.total():\n",
    "            print(\"Player wins!\")\n",
    "        else:\n",
    "            print(\"It's a tie!\")\n",
    "                \n",
    "\n",
    "    def check_player_action(self):\n",
    "        action = input(\"Enter 'h' to hit or 's' to stand.\")\n",
    "        if (action == 'h'):\n",
    "            self.player.add_card(self.deck.deal()) # add a card\n",
    "            print(\"Updated Player's Hand:\", self.player.show()) # display new card \n",
    "            if (self.player.is_bust()):\n",
    "                print(\"Player busted. Dealer Wins!\")\n",
    "            else:\n",
    "                self.check_player_action()\n",
    "        elif (action == 's'):\n",
    "            print(\"Dealer's revealed hand:\", self.dealer.show())\n",
    "            self.check_dealer_action() \n",
    "            \n",
    "    def check_game_state(self):\n",
    "        if (self.player.is_blackjack() and self.dealer.is_blackjack()):\n",
    "            print(\"Dealer's Hand Revealed:\", self.dealer.show())\n",
    "            print(\"Both dealer and player got blackjack! It's a tie!\")\n",
    "            \n",
    "        elif (not(self.player.is_blackjack()) and self.dealer.is_blackjack()):\n",
    "            print(\"Dealer's Hand Revealed:\", self.dealer.show())\n",
    "            print(\"Dealer wins!\")\n",
    "            \n",
    "        elif (self.player.is_blackjack() and not (self.dealer.is_blackjack())):\n",
    "            print(\"Dealer's Hand Revealed:\", self.dealer.show())\n",
    "            print(\"Player wins!\")\n",
    "            \n",
    "        else:\n",
    "            print(\"Awaiting player action\")\n",
    "            self.check_player_action()\n",
    "\n",
    "    def play(self):\n",
    "        self.initial_deal()\n",
    "        print(\"Dealer's Hand:\", self.dealer.show(hide_first=True))\n",
    "        print(\"Player's Hand:\", self.player.show())\n",
    "        self.check_game_state()"
   ]
  },
  {
   "cell_type": "code",
   "execution_count": 3,
   "id": "c2474a30-9aa3-40f7-a4aa-90f259f26946",
   "metadata": {},
   "outputs": [],
   "source": [
    "# Function that will be used to automate games with specified policy\n",
    "def run_policy(policy_class, policy_name, infinite=False, repeats=10, games_per_run=100_000):\n",
    "    results = []\n",
    "\n",
    "    for i in range(repeats):\n",
    "        game = policy_class(infinite=infinite)\n",
    "        game.simulate_games(games_per_run)\n",
    "        \n",
    "        total_games = game.player_wins + game.dealer_wins + game.ties\n",
    "        win_rate = game.player_wins / total_games\n",
    "        loss_rate = game.dealer_wins / total_games\n",
    "        tie_rate = game.ties / total_games\n",
    "        \n",
    "        results.append({\n",
    "            'Policy': policy_name,\n",
    "            'Deck Type': 'Infinite' if infinite else 'Finite',\n",
    "            'Run': i + 1,\n",
    "            'Player Wins': game.player_wins,\n",
    "            'Dealer Wins': game.dealer_wins,\n",
    "            'Ties': game.ties,\n",
    "            'Win Rate': f\"{win_rate * 100:.2f}%\",\n",
    "            'Loss Rate': f\"{loss_rate * 100:.2f}%\",\n",
    "            'Tie Rate': f\"{tie_rate * 100:.2f}%\"\n",
    "        })\n",
    "\n",
    "    return pd.DataFrame(results)\n"
   ]
  },
  {
   "cell_type": "code",
   "execution_count": 4,
   "id": "b88f16ba-343f-4bdf-a923-a176c6eba0dc",
   "metadata": {},
   "outputs": [],
   "source": [
    "# Policy 1 --> If hand is ≥ 17 stick. Else hit.\n",
    "class PolicyOne(Game):\n",
    "    def __init__(self, infinite=False):\n",
    "        super().__init__(infinite=infinite)\n",
    "        self.dealer_wins = 0\n",
    "        self.player_wins = 0\n",
    "        self.ties = 0\n",
    "\n",
    "    def check_dealer_action(self):\n",
    "        while self.dealer.should_hit():\n",
    "            self.dealer.add_card(self.deck.deal())\n",
    "            if(self.dealer.is_bust()):\n",
    "                self.player_wins += 1\n",
    "                return\n",
    "        # Dealer stands\n",
    "        # compare dealer total to player total to determine who wins\n",
    "        if self.dealer.total() > self.player.total():\n",
    "            self.dealer_wins += 1\n",
    "        elif self.dealer.total() < self.player.total():\n",
    "            self.player_wins += 1\n",
    "        else:\n",
    "            self.ties += 1\n",
    "            \n",
    "    \n",
    "    def check_player_action(self):\n",
    "        while self.player.total() < 17:\n",
    "            self.player.add_card(self.deck.deal()) # add a card\n",
    "            if (self.player.is_bust()):\n",
    "                self.dealer_wins += 1\n",
    "                return\n",
    "        # player chooses to stand and action goes to dealer\n",
    "        self.check_dealer_action()\n",
    "\n",
    "    def check_game_state(self):\n",
    "        if (not(self.player.is_blackjack()) and not (self.dealer.is_blackjack())):\n",
    "            # game continues since no one has blackjack\n",
    "            # print(\"Awaiting player action\") # PRINT LINE FOR TESTING \n",
    "            self.check_player_action()\n",
    "        elif (self.player.is_blackjack() and not (self.dealer.is_blackjack())):\n",
    "            # player has blackjack while dealer doesn't\n",
    "            # print(\"Dealer's Hand Revealed:\", self.dealer.show()) # PRINT LINE FOR TESTING\n",
    "            # print(\"Player wins!\") # PRINT LINE FOR TESTING\n",
    "            self.player_wins += 1\n",
    "        elif (not(self.player.is_blackjack()) and self.dealer.is_blackjack()):\n",
    "            # dealer has blackjack while player doesn't \n",
    "            # print(\"Dealer's Hand Revealed:\", self.dealer.show()) # PRINT LINE FOR TESTING\n",
    "            # print(\"Dealer wins!\") # PRINT LINE FOR TESTING\n",
    "            self.dealer_wins += 1\n",
    "        else:\n",
    "            # both dealer and player have blackjack\n",
    "            # print(\"Dealer's Hand Revealed:\", self.dealer.show()) # PRINT LINE FOR TESTING\n",
    "            # print(\"Both dealer and player got blackjack! It's a tie!\") # PRINT LINE FOR TESTING\n",
    "            self.ties += 1\n",
    "    \n",
    "    def play_single_game(self):\n",
    "        self.initial_deal()\n",
    "        self.check_game_state()\n",
    "\n",
    "    def simulate_games(self, n=100000):\n",
    "        for _ in range(n):\n",
    "            self.deck = Deck() # reset deck\n",
    "            self.player = Player() # reset player hand\n",
    "            self.dealer = Dealer() # reset dealer hand\n",
    "            self.play_single_game()\n",
    "        #print(f\"Policy One - If hand is ≥ 17 stick. Else hit.\")\n",
    "        #print(f\"After {n} games:\")\n",
    "        #print(f\"Player Wins: {self.player_wins}\")\n",
    "        #print(f\"Dealer Wins: {self.dealer_wins}\")\n",
    "        #print(f\"Ties: {self.ties}\")"
   ]
  },
  {
   "cell_type": "code",
   "execution_count": 5,
   "id": "f42b44c9-b52f-47f4-9e6a-13a2fff1a644",
   "metadata": {},
   "outputs": [],
   "source": [
    "# Policy 2 --> If hand is ≥ 17 and is hard, stick. Else hit unless hand equals 21.\n",
    "class PolicyTwo(Game): \n",
    "    def __init__(self, infinite=False):\n",
    "        super().__init__(infinite=infinite)\n",
    "        self.dealer_wins = 0\n",
    "        self.player_wins = 0\n",
    "        self.ties = 0\n",
    "\n",
    "    def check_game_state(self):\n",
    "        if (not(self.player.is_blackjack()) and not (self.dealer.is_blackjack())):\n",
    "            # game continues since no one has blackjack\n",
    "            self.check_player_action()\n",
    "        elif (self.player.is_blackjack() and not (self.dealer.is_blackjack())):\n",
    "            # player has blackjack while dealer doesn't\n",
    "            self.player_wins += 1\n",
    "        elif (not(self.player.is_blackjack()) and self.dealer.is_blackjack()):\n",
    "            # dealer has blackjack while player doesn't \n",
    "            self.dealer_wins += 1\n",
    "        else:\n",
    "            # both dealer and player have blackjack\n",
    "            self.ties += 1\n",
    "\n",
    "    def check_player_action(self):\n",
    "        while self.player.is_soft():\n",
    "            if self.player.total() == 21:\n",
    "                break\n",
    "            else:\n",
    "                self.player.add_card(self.deck.deal()) # add a card\n",
    "        while self.player.total() < 17:\n",
    "            self.player.add_card(self.deck.deal()) # add a card\n",
    "            if (self.player.is_bust()):\n",
    "                self.dealer_wins += 1\n",
    "                return\n",
    "        # player chooses to stand and action goes to dealer\n",
    "        self.check_dealer_action()\n",
    "\n",
    "    def check_dealer_action(self):\n",
    "        while self.dealer.should_hit():\n",
    "            self.dealer.add_card(self.deck.deal())\n",
    "            if(self.dealer.is_bust()):\n",
    "                self.player_wins += 1\n",
    "                return\n",
    "        # Dealer stands\n",
    "        # compare dealer total to player total to determine who wins\n",
    "        if self.dealer.total() > self.player.total():\n",
    "            self.dealer_wins += 1\n",
    "        elif self.dealer.total() < self.player.total():\n",
    "            self.player_wins += 1\n",
    "        else:\n",
    "            self.ties += 1\n",
    "\n",
    "    def play_single_game(self):\n",
    "        self.initial_deal()\n",
    "        self.check_game_state()\n",
    "\n",
    "    def simulate_games(self, n=100000):\n",
    "        for _ in range(n):\n",
    "            self.deck = Deck() # reset deck\n",
    "            self.player = Player() # reset player hand\n",
    "            self.dealer = Dealer() # reset dealer hand\n",
    "            self.play_single_game()\n",
    "        #print(f\"Policy Two - If hand is ≥ 17 and is hard, stick. Else hit unless hand equals 21.\")\n",
    "        #print(f\"After {n} games:\")\n",
    "        #print(f\"Player Wins: {self.player_wins}\")\n",
    "        #print(f\"Dealer Wins: {self.dealer_wins}\")\n",
    "        #print(f\"Ties: {self.ties}\")"
   ]
  },
  {
   "cell_type": "code",
   "execution_count": 6,
   "id": "360d0465-2ca6-4378-a2a3-2c79b40b3804",
   "metadata": {},
   "outputs": [],
   "source": [
    "# Policy 3 --> Always stick.\n",
    "class PolicyThree(Game):\n",
    "    def __init__(self, infinite=False):\n",
    "        super().__init__(infinite=infinite)\n",
    "        self.dealer_wins = 0\n",
    "        self.player_wins = 0\n",
    "        self.ties = 0\n",
    "\n",
    "    def check_dealer_action(self):\n",
    "        while self.dealer.should_hit():\n",
    "            self.dealer.add_card(self.deck.deal())\n",
    "            if(self.dealer.is_bust()):\n",
    "                self.player_wins += 1\n",
    "                return\n",
    "        # Dealer stands\n",
    "        # compare dealer total to player total to determine who wins\n",
    "        if self.dealer.total() > self.player.total():\n",
    "            self.dealer_wins += 1\n",
    "        elif self.dealer.total() < self.player.total():\n",
    "            self.player_wins += 1\n",
    "        else:\n",
    "            self.ties += 1\n",
    "\n",
    "    def check_player_action(self):\n",
    "        # player chooses to stand and action goes to dealer\n",
    "        self.check_dealer_action()\n",
    "\n",
    "    def check_game_state(self):\n",
    "        if (not(self.player.is_blackjack()) and not (self.dealer.is_blackjack())):\n",
    "            # game continues since no one has blackjack\n",
    "            self.check_player_action()\n",
    "        elif (self.player.is_blackjack() and not (self.dealer.is_blackjack())):\n",
    "            # player has blackjack while dealer doesn't\n",
    "            self.player_wins += 1\n",
    "        elif (not(self.player.is_blackjack()) and self.dealer.is_blackjack()):\n",
    "            # dealer has blackjack while player doesn't \n",
    "            self.dealer_wins += 1\n",
    "        else:\n",
    "            # both dealer and player have blackjack\n",
    "            self.ties += 1\n",
    "\n",
    "    def play_single_game(self):\n",
    "        self.initial_deal()\n",
    "        self.check_game_state()\n",
    "\n",
    "    def simulate_games(self, n=100000):\n",
    "        for _ in range(n):\n",
    "            self.deck = Deck() # reset deck\n",
    "            self.player = Player() # reset player hand\n",
    "            self.dealer = Dealer() # reset dealer hand\n",
    "            self.play_single_game()\n",
    "        #print(f\"Policy Three - Always stick.\")\n",
    "        #print(f\"After {n} games:\")\n",
    "        #print(f\"Player Wins: {self.player_wins}\")\n",
    "        #print(f\"Dealer Wins: {self.dealer_wins}\")\n",
    "        #print(f\"Ties: {self.ties}\")    "
   ]
  },
  {
   "cell_type": "code",
   "execution_count": 7,
   "id": "4cf26506-1c3a-4fc3-a6a0-0e2cb72daaa8",
   "metadata": {},
   "outputs": [],
   "source": [
    "# Policy 4 --> If soft hand is ≤ 14, hit. If hard hand is ≤ 11, hit. Else stand.\n",
    "class PolicyFour(Game): \n",
    "    def __init__(self, infinite=False):\n",
    "        super().__init__(infinite=infinite)\n",
    "        self.dealer_wins = 0\n",
    "        self.player_wins = 0\n",
    "        self.ties = 0\n",
    "\n",
    "    def check_game_state(self):\n",
    "        if (not(self.player.is_blackjack()) and not (self.dealer.is_blackjack())):\n",
    "            # game continues since no one has blackjack\n",
    "            self.check_player_action()\n",
    "        elif (self.player.is_blackjack() and not (self.dealer.is_blackjack())):\n",
    "            # player has blackjack while dealer doesn't\n",
    "            self.player_wins += 1\n",
    "        elif (not(self.player.is_blackjack()) and self.dealer.is_blackjack()):\n",
    "            # dealer has blackjack while player doesn't \n",
    "            self.dealer_wins += 1\n",
    "        else:\n",
    "            # both dealer and player have blackjack\n",
    "            self.ties += 1\n",
    "\n",
    "    def check_player_action(self):\n",
    "        if self.player.is_soft():\n",
    "            while self.player.total_p4() < 15: # If hand contains Aces, they should be counted as 1 unless the total value of the hand is 15 or greater \n",
    "                self.player.add_card(self.deck.deal()) # add a card\n",
    "        else:\n",
    "            while self.player.total() <= 11:\n",
    "                self.player.add_card(self.deck.deal())\n",
    "        # player chooses to stand and action goes to dealer\n",
    "        self.check_dealer_action()\n",
    "\n",
    "    def check_dealer_action(self):\n",
    "        while self.dealer.should_hit():\n",
    "            self.dealer.add_card(self.deck.deal())\n",
    "            if(self.dealer.is_bust()):\n",
    "                self.player_wins += 1\n",
    "                return\n",
    "        # Dealer stands\n",
    "        # compare dealer total to player total to determine who wins\n",
    "        if self.dealer.total() > self.player.total():\n",
    "            self.dealer_wins += 1\n",
    "        elif self.dealer.total() < self.player.total():\n",
    "            self.player_wins += 1\n",
    "        else:\n",
    "            self.ties += 1\n",
    "\n",
    "    def play_single_game(self):\n",
    "        self.initial_deal()\n",
    "        self.check_game_state()\n",
    "\n",
    "    def simulate_games(self, n=100000):\n",
    "        for _ in range(n):\n",
    "            self.deck = Deck() # reset deck\n",
    "            self.player = Player() # reset player hand\n",
    "            self.dealer = Dealer() # reset dealer hand\n",
    "            self.play_single_game()\n",
    "        #print(f\"Policy Four - If soft hand is ≤ 14, hit. If hard hand is ≤ 11, hit. Else stand.\")\n",
    "        #print(f\"After {n} games:\")\n",
    "        #print(f\"Player Wins: {self.player_wins}\")\n",
    "        #print(f\"Dealer Wins: {self.dealer_wins}\")\n",
    "        #print(f\"Ties: {self.ties}\")    "
   ]
  },
  {
   "cell_type": "code",
   "execution_count": 8,
   "id": "80ec8d7e-5c20-4d22-9bb6-28a6e37dec5b",
   "metadata": {},
   "outputs": [],
   "source": [
    "# Policy 5 --> Implement basic strategy (modified).\n",
    "class PolicyFive(Game):\n",
    "    def __init__(self, infinite=False):\n",
    "        super().__init__(infinite=infinite)\n",
    "        self.dealer_wins = 0\n",
    "        self.player_wins = 0\n",
    "        self.ties = 0\n",
    "\n",
    "    def check_game_state(self):\n",
    "        if (not(self.player.is_blackjack()) and not (self.dealer.is_blackjack())):\n",
    "            # game continues since no one has blackjack\n",
    "            self.check_player_action()\n",
    "        elif (self.player.is_blackjack() and not (self.dealer.is_blackjack())):\n",
    "            # player has blackjack while dealer doesn't\n",
    "            self.player_wins += 1\n",
    "        elif (not(self.player.is_blackjack()) and self.dealer.is_blackjack()):\n",
    "            # dealer has blackjack while player doesn't \n",
    "            self.dealer_wins += 1\n",
    "        else:\n",
    "            # both dealer and player have blackjack\n",
    "            self.ties += 1\n",
    "\n",
    "    def check_player_action(self):\n",
    "        # implement basic strategy here\n",
    "        if self.player.is_soft():\n",
    "            # basic strategy using soft hand totals\n",
    "            if self.player.total() <= 17:\n",
    "                #player chooses to hit\n",
    "                self.player.add_card(self.deck.deal()) # add a card\n",
    "                self.check_player_action() # No need to check for bust since not possible to bust with a soft hand\n",
    "            elif self.player.total() == 18:\n",
    "                if self.dealer.cards[1].value < 9:\n",
    "                    # player chooses to stand\n",
    "                    self.check_dealer_action()\n",
    "                else:\n",
    "                    #player chooses to hit\n",
    "                    self.player.add_card(self.deck.deal()) # add a card\n",
    "                    self.check_player_action() # No need to check for bust since not possible to bust with a soft hand\n",
    "            else: # If hand is 19+\n",
    "                #player chooses to stand\n",
    "                self.check_dealer_action()\n",
    "        else:\n",
    "            # basic strategy using hard hand totals\n",
    "            if self.player.total() <= 11:\n",
    "                self.player.add_card(self.deck.deal()) # add a card\n",
    "                self.check_player_action() # don't need to check for bust because impossible to bust when hitting on 11 or less\n",
    "            elif self.player.total() == 12:\n",
    "                if self.dealer.cards[1].value >= 4 and self.dealer.cards[1].value <= 6:\n",
    "                    # player chooses to stand\n",
    "                    self.check_dealer_action()\n",
    "                else:\n",
    "                    #player chooses to hit\n",
    "                    self.player.add_card(self.deck.deal()) # add a card\n",
    "                    if (self.player.is_bust()):\n",
    "                        self.dealer_wins += 1\n",
    "                        return\n",
    "                    self.check_player_action()\n",
    "            elif self.player.total() < 17:\n",
    "                if self.dealer.cards[1].value > 6:\n",
    "                    self.player.add_card(self.deck.deal()) # add a card\n",
    "                    if (self.player.is_bust()):\n",
    "                        self.dealer_wins += 1\n",
    "                        return\n",
    "                    self.check_player_action()\n",
    "                else:\n",
    "                    #player chooses to stand\n",
    "                    self.check_dealer_action()\n",
    "            else: # if hand is >= 17, stand!\n",
    "                self.check_dealer_action()\n",
    "\n",
    "    def check_dealer_action(self):\n",
    "        while self.dealer.should_hit():\n",
    "            self.dealer.add_card(self.deck.deal())\n",
    "            if(self.dealer.is_bust()):\n",
    "                self.player_wins += 1\n",
    "                return\n",
    "        # Dealer stands\n",
    "        # compare dealer total to player total to determine who wins\n",
    "        if self.dealer.total() > self.player.total():\n",
    "            self.dealer_wins += 1\n",
    "        elif self.dealer.total() < self.player.total():\n",
    "            self.player_wins += 1\n",
    "        else:\n",
    "            self.ties += 1\n",
    "\n",
    "    def play_single_game(self):\n",
    "        self.initial_deal()\n",
    "        self.check_game_state()\n",
    "\n",
    "    def simulate_games(self, n=100000):\n",
    "        for _ in range(n):\n",
    "            self.deck = Deck() # reset deck\n",
    "            self.player = Player() # reset player hand\n",
    "            self.dealer = Dealer() # reset dealer hand\n",
    "            self.play_single_game()\n",
    "        #print(f\"Policy Five - Implement basic strategy (modified).\")\n",
    "        #print(f\"After {n} games:\")\n",
    "        #print(f\"Player Wins: {self.player_wins}\")\n",
    "        #print(f\"Dealer Wins: {self.dealer_wins}\")\n",
    "        #print(f\"Ties: {self.ties}\")   "
   ]
  },
  {
   "cell_type": "code",
   "execution_count": 9,
   "id": "6d1b6396-57eb-4eb8-98dd-5443283f9391",
   "metadata": {},
   "outputs": [
    {
     "name": "stdout",
     "output_type": "stream",
     "text": [
      "Dealer's Hand: Hidden | Queen of Spades\n",
      "Player's Hand: Eight of Hearts | Jack of Hearts\n",
      "Awaiting player action\n"
     ]
    },
    {
     "name": "stdin",
     "output_type": "stream",
     "text": [
      "Enter 'h' to hit or 's' to stand. s\n"
     ]
    },
    {
     "name": "stdout",
     "output_type": "stream",
     "text": [
      "Dealer's revealed hand: Five of Hearts | Queen of Spades\n",
      "Updated Dealer's hand: Five of Hearts | Queen of Spades | Seven of Spades\n",
      "Dealer busted. Player wins!\n"
     ]
    }
   ],
   "source": [
    "# Play blackjack with user input \n",
    "blackjack = Game()\n",
    "blackjack.play()"
   ]
  },
  {
   "cell_type": "code",
   "execution_count": 10,
   "id": "2f6b1efe-9b49-4037-962a-b87bf22bd783",
   "metadata": {},
   "outputs": [],
   "source": [
    "# Running 10 trials for policy 1 with finite deck (each trial is 100,000 games)\n",
    "# Function returns a dataframe\n",
    "policy1_finite = run_policy(PolicyOne, \"Policy One\", infinite=False)"
   ]
  },
  {
   "cell_type": "code",
   "execution_count": 11,
   "id": "80db7256-8ff5-431a-85f3-27f8cef97ee8",
   "metadata": {},
   "outputs": [],
   "source": [
    "# Running 10 trials for policy 1 with infinite deck (each trial is 100,000 games)\n",
    "# Function returns a dataframe\n",
    "policy1_infinite = run_policy(PolicyOne, \"Policy One\", infinite=True)"
   ]
  },
  {
   "cell_type": "code",
   "execution_count": 12,
   "id": "ae570ab4-bb61-4365-a5ac-c47e52a4ffed",
   "metadata": {},
   "outputs": [],
   "source": [
    "# Running 10 trials for policy 2 with finite deck (each trial is 100,000 games)\n",
    "# Function returns a dataframe\n",
    "policy2_finite = run_policy(PolicyTwo, \"Policy Two\", infinite=False)"
   ]
  },
  {
   "cell_type": "code",
   "execution_count": 13,
   "id": "7e48b0f5-2d29-4afd-8717-fe9c539425c5",
   "metadata": {},
   "outputs": [],
   "source": [
    "# Running 10 trials for policy 2 with infinite deck (each trial is 100,000 games)\n",
    "# Function returns a dataframe\n",
    "policy2_infinite = run_policy(PolicyTwo, \"Policy Two\", infinite=True)"
   ]
  },
  {
   "cell_type": "code",
   "execution_count": 14,
   "id": "6df48d1c-032e-4c3a-a166-f5bf3f3354d5",
   "metadata": {},
   "outputs": [],
   "source": [
    "# Running 10 trials for policy 3 with finite deck (each trial is 100,000 games)\n",
    "# Function returns a dataframe\n",
    "policy3_finite = run_policy(PolicyThree, \"Policy Three\", infinite=False)"
   ]
  },
  {
   "cell_type": "code",
   "execution_count": 15,
   "id": "50568bb0-f0b4-48b7-8507-720e57cdb1d2",
   "metadata": {},
   "outputs": [],
   "source": [
    "# Running 10 trials for policy 3 with infinite deck (each trial is 100,000 games)\n",
    "# Function returns a dataframe\n",
    "policy3_infinite = run_policy(PolicyThree, \"Policy Three\", infinite=True)"
   ]
  },
  {
   "cell_type": "code",
   "execution_count": 17,
   "id": "2828812c-e970-4be1-9c1e-161b3c264885",
   "metadata": {},
   "outputs": [],
   "source": [
    "# Running 10 trials for policy 4 with finite deck (each trial is 100,000 games)\n",
    "# Function returns a dataframe\n",
    "policy4_finite = run_policy(PolicyFour, \"Policy Four\", infinite=False)"
   ]
  },
  {
   "cell_type": "code",
   "execution_count": 18,
   "id": "2d41c7cc-2100-4de7-99ba-31f0e2a43730",
   "metadata": {},
   "outputs": [],
   "source": [
    "# Running 10 trials for policy 4 with infinite deck (each trial is 100,000 games)\n",
    "# Function returns a dataframe\n",
    "policy4_infinite = run_policy(PolicyFour, \"Policy Four\", infinite=True)"
   ]
  },
  {
   "cell_type": "code",
   "execution_count": 19,
   "id": "db85b095-bd4a-47d2-9293-2374435f6583",
   "metadata": {},
   "outputs": [],
   "source": [
    "# Running 10 trials for policy 5 with finite deck (each trial is 100,000 games)\n",
    "# Function returns a dataframe\n",
    "policy5_finite = run_policy(PolicyFive, \"Policy Five\", infinite=False)"
   ]
  },
  {
   "cell_type": "code",
   "execution_count": 20,
   "id": "23ff86a8-2939-4fee-b167-e22eb8397af7",
   "metadata": {},
   "outputs": [],
   "source": [
    "# Running 10 trials for policy 5 with infinite deck (each trial is 100,000 games)\n",
    "# Function returns a dataframe\n",
    "policy5_infinite = run_policy(PolicyFive, \"Policy Five\", infinite=True)"
   ]
  },
  {
   "cell_type": "code",
   "execution_count": 21,
   "id": "50a3c481-c7a6-48e9-a55b-c32252b9b757",
   "metadata": {},
   "outputs": [],
   "source": [
    "# Combining finite & infinite dataframes for policy 1\n",
    "policy1_combined = pd.concat([policy1_finite, policy1_infinite], ignore_index=True)"
   ]
  },
  {
   "cell_type": "code",
   "execution_count": 22,
   "id": "39d72983-ded8-407f-9817-6a5d6e42b007",
   "metadata": {},
   "outputs": [],
   "source": [
    "# Combining finite & infinite dataframes for policy 2\n",
    "policy2_combined = pd.concat([policy2_finite, policy2_infinite], ignore_index=True)"
   ]
  },
  {
   "cell_type": "code",
   "execution_count": 23,
   "id": "598f91c3-c08e-4763-a358-53c478265d09",
   "metadata": {},
   "outputs": [],
   "source": [
    "# Combining finite & infinite dataframes for policy 3\n",
    "policy3_combined = pd.concat([policy3_finite, policy3_infinite], ignore_index=True)"
   ]
  },
  {
   "cell_type": "code",
   "execution_count": 24,
   "id": "46a39961-f3e2-445a-ba95-c2decb0c0510",
   "metadata": {},
   "outputs": [],
   "source": [
    "# Combining finite & infinite dataframes for policy 4\n",
    "policy4_combined = pd.concat([policy4_finite, policy4_infinite], ignore_index=True)"
   ]
  },
  {
   "cell_type": "code",
   "execution_count": 25,
   "id": "eb74f43a-9a9f-42f0-bba4-4343d5b2d191",
   "metadata": {},
   "outputs": [],
   "source": [
    "# Combining finite & infinite dataframes for policy 5\n",
    "policy5_combined = pd.concat([policy5_finite, policy5_infinite], ignore_index=True)"
   ]
  },
  {
   "cell_type": "code",
   "execution_count": 26,
   "id": "16388394-e430-470b-8469-32f3614e8a88",
   "metadata": {},
   "outputs": [
    {
     "name": "stdout",
     "output_type": "stream",
     "text": [
      "        Policy Deck Type  Run  Player Wins  Dealer Wins  Ties Win Rate  \\\n",
      "0   Policy One    Finite    1        41424        49111  9465   41.42%   \n",
      "1   Policy One    Finite    2        41502        49041  9457   41.50%   \n",
      "2   Policy One    Finite    3        41410        49120  9470   41.41%   \n",
      "3   Policy One    Finite    4        41366        49243  9391   41.37%   \n",
      "4   Policy One    Finite    5        41253        49267  9480   41.25%   \n",
      "5   Policy One    Finite    6        41284        49146  9570   41.28%   \n",
      "6   Policy One    Finite    7        41113        49222  9665   41.11%   \n",
      "7   Policy One    Finite    8        41437        49010  9553   41.44%   \n",
      "8   Policy One    Finite    9        41402        49212  9386   41.40%   \n",
      "9   Policy One    Finite   10        41335        49047  9618   41.34%   \n",
      "10  Policy One  Infinite    1        41224        49476  9300   41.22%   \n",
      "11  Policy One  Infinite    2        41049        49304  9647   41.05%   \n",
      "12  Policy One  Infinite    3        41562        48926  9512   41.56%   \n",
      "13  Policy One  Infinite    4        41457        49196  9347   41.46%   \n",
      "14  Policy One  Infinite    5        41252        49554  9194   41.25%   \n",
      "15  Policy One  Infinite    6        41308        49105  9587   41.31%   \n",
      "16  Policy One  Infinite    7        41244        49288  9468   41.24%   \n",
      "17  Policy One  Infinite    8        41226        49260  9514   41.23%   \n",
      "18  Policy One  Infinite    9        41293        49334  9373   41.29%   \n",
      "19  Policy One  Infinite   10        41110        49429  9461   41.11%   \n",
      "\n",
      "   Loss Rate Tie Rate  \n",
      "0     49.11%    9.46%  \n",
      "1     49.04%    9.46%  \n",
      "2     49.12%    9.47%  \n",
      "3     49.24%    9.39%  \n",
      "4     49.27%    9.48%  \n",
      "5     49.15%    9.57%  \n",
      "6     49.22%    9.66%  \n",
      "7     49.01%    9.55%  \n",
      "8     49.21%    9.39%  \n",
      "9     49.05%    9.62%  \n",
      "10    49.48%    9.30%  \n",
      "11    49.30%    9.65%  \n",
      "12    48.93%    9.51%  \n",
      "13    49.20%    9.35%  \n",
      "14    49.55%    9.19%  \n",
      "15    49.10%    9.59%  \n",
      "16    49.29%    9.47%  \n",
      "17    49.26%    9.51%  \n",
      "18    49.33%    9.37%  \n",
      "19    49.43%    9.46%  \n"
     ]
    }
   ],
   "source": [
    "print(policy1_combined)"
   ]
  },
  {
   "cell_type": "code",
   "execution_count": 27,
   "id": "5cdcf3be-d79b-4457-9855-6e8cffe4b4e0",
   "metadata": {},
   "outputs": [
    {
     "name": "stdout",
     "output_type": "stream",
     "text": [
      "        Policy Deck Type  Run  Player Wins  Dealer Wins  Ties Win Rate  \\\n",
      "0   Policy Two    Finite    1        40787        50052  9161   40.79%   \n",
      "1   Policy Two    Finite    2        40570        50244  9186   40.57%   \n",
      "2   Policy Two    Finite    3        40620        50295  9085   40.62%   \n",
      "3   Policy Two    Finite    4        40744        50222  9034   40.74%   \n",
      "4   Policy Two    Finite    5        40804        50127  9069   40.80%   \n",
      "5   Policy Two    Finite    6        40959        49659  9382   40.96%   \n",
      "6   Policy Two    Finite    7        40403        50259  9338   40.40%   \n",
      "7   Policy Two    Finite    8        40528        50412  9060   40.53%   \n",
      "8   Policy Two    Finite    9        40759        50118  9123   40.76%   \n",
      "9   Policy Two    Finite   10        40698        50036  9266   40.70%   \n",
      "10  Policy Two  Infinite    1        40866        49921  9213   40.87%   \n",
      "11  Policy Two  Infinite    2        40732        50151  9117   40.73%   \n",
      "12  Policy Two  Infinite    3        40415        50449  9136   40.41%   \n",
      "13  Policy Two  Infinite    4        40412        50302  9286   40.41%   \n",
      "14  Policy Two  Infinite    5        40622        50280  9098   40.62%   \n",
      "15  Policy Two  Infinite    6        40606        50223  9171   40.61%   \n",
      "16  Policy Two  Infinite    7        40675        49990  9335   40.67%   \n",
      "17  Policy Two  Infinite    8        40585        50255  9160   40.59%   \n",
      "18  Policy Two  Infinite    9        40717        50192  9091   40.72%   \n",
      "19  Policy Two  Infinite   10        40576        50224  9200   40.58%   \n",
      "\n",
      "   Loss Rate Tie Rate  \n",
      "0     50.05%    9.16%  \n",
      "1     50.24%    9.19%  \n",
      "2     50.30%    9.09%  \n",
      "3     50.22%    9.03%  \n",
      "4     50.13%    9.07%  \n",
      "5     49.66%    9.38%  \n",
      "6     50.26%    9.34%  \n",
      "7     50.41%    9.06%  \n",
      "8     50.12%    9.12%  \n",
      "9     50.04%    9.27%  \n",
      "10    49.92%    9.21%  \n",
      "11    50.15%    9.12%  \n",
      "12    50.45%    9.14%  \n",
      "13    50.30%    9.29%  \n",
      "14    50.28%    9.10%  \n",
      "15    50.22%    9.17%  \n",
      "16    49.99%    9.34%  \n",
      "17    50.26%    9.16%  \n",
      "18    50.19%    9.09%  \n",
      "19    50.22%    9.20%  \n"
     ]
    }
   ],
   "source": [
    "print(policy2_combined)"
   ]
  },
  {
   "cell_type": "code",
   "execution_count": 28,
   "id": "f94a2de0-7aa5-402a-8ff9-b75b1ec4f86f",
   "metadata": {},
   "outputs": [
    {
     "name": "stdout",
     "output_type": "stream",
     "text": [
      "          Policy Deck Type  Run  Player Wins  Dealer Wins  Ties Win Rate  \\\n",
      "0   Policy Three    Finite    1        38629        56883  4488   38.63%   \n",
      "1   Policy Three    Finite    2        38805        56696  4499   38.80%   \n",
      "2   Policy Three    Finite    3        38941        56545  4514   38.94%   \n",
      "3   Policy Three    Finite    4        38747        56633  4620   38.75%   \n",
      "4   Policy Three    Finite    5        38806        56524  4670   38.81%   \n",
      "5   Policy Three    Finite    6        38733        56685  4582   38.73%   \n",
      "6   Policy Three    Finite    7        39084        56322  4594   39.08%   \n",
      "7   Policy Three    Finite    8        38766        56605  4629   38.77%   \n",
      "8   Policy Three    Finite    9        38627        56809  4564   38.63%   \n",
      "9   Policy Three    Finite   10        38700        56705  4595   38.70%   \n",
      "10  Policy Three  Infinite    1        38798        56615  4587   38.80%   \n",
      "11  Policy Three  Infinite    2        38590        56885  4525   38.59%   \n",
      "12  Policy Three  Infinite    3        38721        56769  4510   38.72%   \n",
      "13  Policy Three  Infinite    4        38599        56691  4710   38.60%   \n",
      "14  Policy Three  Infinite    5        38775        56596  4629   38.77%   \n",
      "15  Policy Three  Infinite    6        38608        56768  4624   38.61%   \n",
      "16  Policy Three  Infinite    7        38702        56733  4565   38.70%   \n",
      "17  Policy Three  Infinite    8        38798        56652  4550   38.80%   \n",
      "18  Policy Three  Infinite    9        38521        57033  4446   38.52%   \n",
      "19  Policy Three  Infinite   10        38799        56652  4549   38.80%   \n",
      "\n",
      "   Loss Rate Tie Rate  \n",
      "0     56.88%    4.49%  \n",
      "1     56.70%    4.50%  \n",
      "2     56.55%    4.51%  \n",
      "3     56.63%    4.62%  \n",
      "4     56.52%    4.67%  \n",
      "5     56.68%    4.58%  \n",
      "6     56.32%    4.59%  \n",
      "7     56.61%    4.63%  \n",
      "8     56.81%    4.56%  \n",
      "9     56.71%    4.59%  \n",
      "10    56.62%    4.59%  \n",
      "11    56.88%    4.52%  \n",
      "12    56.77%    4.51%  \n",
      "13    56.69%    4.71%  \n",
      "14    56.60%    4.63%  \n",
      "15    56.77%    4.62%  \n",
      "16    56.73%    4.57%  \n",
      "17    56.65%    4.55%  \n",
      "18    57.03%    4.45%  \n",
      "19    56.65%    4.55%  \n"
     ]
    }
   ],
   "source": [
    "print(policy3_combined)"
   ]
  },
  {
   "cell_type": "code",
   "execution_count": 29,
   "id": "03a313aa-dea8-44b1-af09-2ccc41e54794",
   "metadata": {},
   "outputs": [
    {
     "name": "stdout",
     "output_type": "stream",
     "text": [
      "         Policy Deck Type  Run  Player Wins  Dealer Wins  Ties Win Rate  \\\n",
      "0   Policy Four    Finite    1        42300        51447  6253   42.30%   \n",
      "1   Policy Four    Finite    2        42213        51542  6245   42.21%   \n",
      "2   Policy Four    Finite    3        42374        51401  6225   42.37%   \n",
      "3   Policy Four    Finite    4        42318        51511  6171   42.32%   \n",
      "4   Policy Four    Finite    5        42112        51728  6160   42.11%   \n",
      "5   Policy Four    Finite    6        42449        51304  6247   42.45%   \n",
      "6   Policy Four    Finite    7        42130        51634  6236   42.13%   \n",
      "7   Policy Four    Finite    8        42214        51473  6313   42.21%   \n",
      "8   Policy Four    Finite    9        42201        51619  6180   42.20%   \n",
      "9   Policy Four    Finite   10        42490        51212  6298   42.49%   \n",
      "10  Policy Four  Infinite    1        42158        51485  6357   42.16%   \n",
      "11  Policy Four  Infinite    2        42258        51596  6146   42.26%   \n",
      "12  Policy Four  Infinite    3        42211        51511  6278   42.21%   \n",
      "13  Policy Four  Infinite    4        42539        51355  6106   42.54%   \n",
      "14  Policy Four  Infinite    5        42250        51638  6112   42.25%   \n",
      "15  Policy Four  Infinite    6        42069        51704  6227   42.07%   \n",
      "16  Policy Four  Infinite    7        42346        51380  6274   42.35%   \n",
      "17  Policy Four  Infinite    8        42234        51637  6129   42.23%   \n",
      "18  Policy Four  Infinite    9        42285        51503  6212   42.29%   \n",
      "19  Policy Four  Infinite   10        42266        51585  6149   42.27%   \n",
      "\n",
      "   Loss Rate Tie Rate  \n",
      "0     51.45%    6.25%  \n",
      "1     51.54%    6.25%  \n",
      "2     51.40%    6.22%  \n",
      "3     51.51%    6.17%  \n",
      "4     51.73%    6.16%  \n",
      "5     51.30%    6.25%  \n",
      "6     51.63%    6.24%  \n",
      "7     51.47%    6.31%  \n",
      "8     51.62%    6.18%  \n",
      "9     51.21%    6.30%  \n",
      "10    51.48%    6.36%  \n",
      "11    51.60%    6.15%  \n",
      "12    51.51%    6.28%  \n",
      "13    51.35%    6.11%  \n",
      "14    51.64%    6.11%  \n",
      "15    51.70%    6.23%  \n",
      "16    51.38%    6.27%  \n",
      "17    51.64%    6.13%  \n",
      "18    51.50%    6.21%  \n",
      "19    51.59%    6.15%  \n"
     ]
    }
   ],
   "source": [
    "print(policy4_combined)"
   ]
  },
  {
   "cell_type": "code",
   "execution_count": 30,
   "id": "7a5c1731-cdb0-49cf-b285-45755920e213",
   "metadata": {},
   "outputs": [
    {
     "name": "stdout",
     "output_type": "stream",
     "text": [
      "         Policy Deck Type  Run  Player Wins  Dealer Wins  Ties Win Rate  \\\n",
      "0   Policy Five    Finite    1        43339        48101  8560   43.34%   \n",
      "1   Policy Five    Finite    2        43725        47688  8587   43.73%   \n",
      "2   Policy Five    Finite    3        43501        47999  8500   43.50%   \n",
      "3   Policy Five    Finite    4        43979        47679  8342   43.98%   \n",
      "4   Policy Five    Finite    5        43593        47870  8537   43.59%   \n",
      "5   Policy Five    Finite    6        43543        47955  8502   43.54%   \n",
      "6   Policy Five    Finite    7        43519        48049  8432   43.52%   \n",
      "7   Policy Five    Finite    8        43566        48077  8357   43.57%   \n",
      "8   Policy Five    Finite    9        43829        47726  8445   43.83%   \n",
      "9   Policy Five    Finite   10        43630        47814  8556   43.63%   \n",
      "10  Policy Five  Infinite    1        43813        47668  8519   43.81%   \n",
      "11  Policy Five  Infinite    2        43446        47875  8679   43.45%   \n",
      "12  Policy Five  Infinite    3        43570        48054  8376   43.57%   \n",
      "13  Policy Five  Infinite    4        43632        47903  8465   43.63%   \n",
      "14  Policy Five  Infinite    5        43380        48057  8563   43.38%   \n",
      "15  Policy Five  Infinite    6        43541        47829  8630   43.54%   \n",
      "16  Policy Five  Infinite    7        43314        48100  8586   43.31%   \n",
      "17  Policy Five  Infinite    8        43862        47584  8554   43.86%   \n",
      "18  Policy Five  Infinite    9        43590        47887  8523   43.59%   \n",
      "19  Policy Five  Infinite   10        43266        48123  8611   43.27%   \n",
      "\n",
      "   Loss Rate Tie Rate  \n",
      "0     48.10%    8.56%  \n",
      "1     47.69%    8.59%  \n",
      "2     48.00%    8.50%  \n",
      "3     47.68%    8.34%  \n",
      "4     47.87%    8.54%  \n",
      "5     47.95%    8.50%  \n",
      "6     48.05%    8.43%  \n",
      "7     48.08%    8.36%  \n",
      "8     47.73%    8.45%  \n",
      "9     47.81%    8.56%  \n",
      "10    47.67%    8.52%  \n",
      "11    47.88%    8.68%  \n",
      "12    48.05%    8.38%  \n",
      "13    47.90%    8.46%  \n",
      "14    48.06%    8.56%  \n",
      "15    47.83%    8.63%  \n",
      "16    48.10%    8.59%  \n",
      "17    47.58%    8.55%  \n",
      "18    47.89%    8.52%  \n",
      "19    48.12%    8.61%  \n"
     ]
    }
   ],
   "source": [
    "print(policy5_combined)"
   ]
  },
  {
   "cell_type": "code",
   "execution_count": 31,
   "id": "2a5495d7-6a5b-42d4-b8dd-70af6914311d",
   "metadata": {},
   "outputs": [],
   "source": [
    "# converting percetanges to floats to print averages\n",
    "policy1_combined['Win Rate'] = policy1_combined['Win Rate'].str.rstrip('%').astype(float)\n",
    "policy1_combined['Loss Rate'] = policy1_combined['Loss Rate'].str.rstrip('%').astype(float)\n",
    "policy1_combined['Tie Rate'] = policy1_combined['Tie Rate'].str.rstrip('%').astype(float)"
   ]
  },
  {
   "cell_type": "code",
   "execution_count": 32,
   "id": "b2aff248-07ac-4461-aa71-7da224d3c48d",
   "metadata": {},
   "outputs": [],
   "source": [
    "# converting percetanges to floats to print averages\n",
    "policy2_combined['Win Rate'] = policy2_combined['Win Rate'].str.rstrip('%').astype(float)\n",
    "policy2_combined['Loss Rate'] = policy2_combined['Loss Rate'].str.rstrip('%').astype(float)\n",
    "policy2_combined['Tie Rate'] = policy2_combined['Tie Rate'].str.rstrip('%').astype(float)"
   ]
  },
  {
   "cell_type": "code",
   "execution_count": 33,
   "id": "92758fdb-599b-4165-81da-93e9c34fda4e",
   "metadata": {},
   "outputs": [],
   "source": [
    "# converting percetanges to floats to print averages\n",
    "policy3_combined['Win Rate'] = policy3_combined['Win Rate'].str.rstrip('%').astype(float)\n",
    "policy3_combined['Loss Rate'] = policy3_combined['Loss Rate'].str.rstrip('%').astype(float)\n",
    "policy3_combined['Tie Rate'] = policy3_combined['Tie Rate'].str.rstrip('%').astype(float)"
   ]
  },
  {
   "cell_type": "code",
   "execution_count": 34,
   "id": "d34a7e94-2bb5-42ec-bffb-4e40596074e0",
   "metadata": {},
   "outputs": [],
   "source": [
    "# converting percetanges to floats to print averages\n",
    "policy4_combined['Win Rate'] = policy4_combined['Win Rate'].str.rstrip('%').astype(float)\n",
    "policy4_combined['Loss Rate'] = policy4_combined['Loss Rate'].str.rstrip('%').astype(float)\n",
    "policy4_combined['Tie Rate'] = policy4_combined['Tie Rate'].str.rstrip('%').astype(float)"
   ]
  },
  {
   "cell_type": "code",
   "execution_count": 35,
   "id": "5a9928f2-31f2-4947-9e08-d101714f83db",
   "metadata": {},
   "outputs": [],
   "source": [
    "# converting percetanges to floats to print averages\n",
    "policy5_combined['Win Rate'] = policy5_combined['Win Rate'].str.rstrip('%').astype(float)\n",
    "policy5_combined['Loss Rate'] = policy5_combined['Loss Rate'].str.rstrip('%').astype(float)\n",
    "policy5_combined['Tie Rate'] = policy5_combined['Tie Rate'].str.rstrip('%').astype(float)"
   ]
  },
  {
   "cell_type": "code",
   "execution_count": 36,
   "id": "2e802cd3-d65e-4198-80d7-f087c2339f02",
   "metadata": {},
   "outputs": [
    {
     "name": "stdout",
     "output_type": "stream",
     "text": [
      "           Win Rate  Loss Rate  Tie Rate\n",
      "Deck Type                               \n",
      "Finite        41.35      49.14      9.51\n",
      "Infinite      41.27      49.29      9.44\n"
     ]
    }
   ],
   "source": [
    "policy1_averages = policy1_combined.groupby(\"Deck Type\")[[\"Win Rate\", \"Loss Rate\", \"Tie Rate\"]].mean()\n",
    "print(policy1_averages.round(2))"
   ]
  },
  {
   "cell_type": "code",
   "execution_count": 37,
   "id": "10d248be-7f60-413c-910e-e25103cddde8",
   "metadata": {},
   "outputs": [
    {
     "name": "stdout",
     "output_type": "stream",
     "text": [
      "           Win Rate  Loss Rate  Tie Rate\n",
      "Deck Type                               \n",
      "Finite        40.69      50.14      9.17\n",
      "Infinite      40.62      50.20      9.18\n"
     ]
    }
   ],
   "source": [
    "policy2_averages = policy2_combined.groupby(\"Deck Type\")[[\"Win Rate\", \"Loss Rate\", \"Tie Rate\"]].mean()\n",
    "print(policy2_averages.round(2))"
   ]
  },
  {
   "cell_type": "code",
   "execution_count": 38,
   "id": "2511ba6a-7c26-42f6-bd1e-7c6a493610ba",
   "metadata": {},
   "outputs": [
    {
     "name": "stdout",
     "output_type": "stream",
     "text": [
      "           Win Rate  Loss Rate  Tie Rate\n",
      "Deck Type                               \n",
      "Finite        38.78      56.64      4.57\n",
      "Infinite      38.69      56.74      4.57\n"
     ]
    }
   ],
   "source": [
    "policy3_averages = policy3_combined.groupby(\"Deck Type\")[[\"Win Rate\", \"Loss Rate\", \"Tie Rate\"]].mean()\n",
    "print(policy3_averages.round(2))"
   ]
  },
  {
   "cell_type": "code",
   "execution_count": 39,
   "id": "38f27a9d-65b0-4eb4-ad5b-3221d9d6186e",
   "metadata": {},
   "outputs": [
    {
     "name": "stdout",
     "output_type": "stream",
     "text": [
      "           Win Rate  Loss Rate  Tie Rate\n",
      "Deck Type                               \n",
      "Finite        42.28      51.49      6.23\n",
      "Infinite      42.26      51.54      6.20\n"
     ]
    }
   ],
   "source": [
    "policy4_averages = policy4_combined.groupby(\"Deck Type\")[[\"Win Rate\", \"Loss Rate\", \"Tie Rate\"]].mean()\n",
    "print(policy4_averages.round(2))"
   ]
  },
  {
   "cell_type": "code",
   "execution_count": 40,
   "id": "365bdbb7-0ae4-43b6-b872-6256f1df404a",
   "metadata": {},
   "outputs": [
    {
     "name": "stdout",
     "output_type": "stream",
     "text": [
      "           Win Rate  Loss Rate  Tie Rate\n",
      "Deck Type                               \n",
      "Finite        43.62      47.90      8.48\n",
      "Infinite      43.54      47.91      8.55\n"
     ]
    }
   ],
   "source": [
    "policy5_averages = policy5_combined.groupby(\"Deck Type\")[[\"Win Rate\", \"Loss Rate\", \"Tie Rate\"]].mean()\n",
    "print(policy5_averages.round(2))"
   ]
  },
  {
   "cell_type": "code",
   "execution_count": 41,
   "id": "ee71c80f-e631-497d-98f7-f0f95d702a63",
   "metadata": {},
   "outputs": [],
   "source": [
    "all_policies_combined = pd.concat([policy1_combined, policy2_combined, policy3_combined, policy4_combined, policy5_combined], ignore_index=True)"
   ]
  },
  {
   "cell_type": "code",
   "execution_count": 42,
   "id": "d0748506-b6a4-44ee-afc5-381e39bd4a50",
   "metadata": {},
   "outputs": [],
   "source": [
    "sns.set_theme(style=\"whitegrid\")"
   ]
  },
  {
   "cell_type": "code",
   "execution_count": 47,
   "id": "b888d1c1-621d-448a-bef7-1dc2f91d2e15",
   "metadata": {},
   "outputs": [
    {
     "data": {
      "image/png": "[encoded data removed]",
      "text/plain": [
       "<Figure size 1000x600 with 1 Axes>"
      ]
     },
     "metadata": {},
     "output_type": "display_data"
    }
   ],
   "source": [
    "# barplot showing results for policy 1 (both finite and infinite decks)\n",
    "plt.figure(figsize=(10, 6))\n",
    "sns.barplot(data=policy1_combined, x='Run', y='Win Rate', hue='Deck Type', palette={'Finite': '#000aff', 'Infinite': '#ffb700'})\n",
    "plt.title(\"Win Rate by Deck Type\")\n",
    "plt.ylabel(\"Win Rate (%)\")\n",
    "plt.ylim(40, 43)\n",
    "\n",
    "#UNCOMMENT LINE BELOW TO SAVE FIGURE AS PNG\n",
    "#plt.savefig(\"policy1_combined_winrate.png\")\n",
    "plt.show()"
   ]
  },
  {
   "cell_type": "code",
   "execution_count": 48,
   "id": "ece5e9a9-e7c0-45ff-a9f0-afd6e9544cfc",
   "metadata": {},
   "outputs": [
    {
     "data": {
      "image/png": "[encoded data removed]",
      "text/plain": [
       "<Figure size 1000x600 with 1 Axes>"
      ]
     },
     "metadata": {},
     "output_type": "display_data"
    }
   ],
   "source": [
    "# barplot showing results for policy 2 (both finite and infinite decks)\n",
    "plt.figure(figsize=(10, 6))\n",
    "sns.barplot(data=policy2_combined, x='Run', y='Win Rate', hue='Deck Type', palette={'Finite': '#000aff', 'Infinite': '#ffb700'})\n",
    "plt.title(\"Win Rate by Deck Type\")\n",
    "plt.ylabel(\"Win Rate (%)\")\n",
    "plt.ylim(39, 42)\n",
    "\n",
    "#UNCOMMENT LINE BELOW TO SAVE FIGURE AS PNG\n",
    "#plt.savefig(\"policy2_combined_winrate.png\")\n",
    "plt.show()"
   ]
  },
  {
   "cell_type": "code",
   "execution_count": 49,
   "id": "7b4e1034-eec5-430c-9270-e0cb2b62781c",
   "metadata": {},
   "outputs": [
    {
     "data": {
      "image/png": "[encoded data removed]",
      "text/plain": [
       "<Figure size 1000x600 with 1 Axes>"
      ]
     },
     "metadata": {},
     "output_type": "display_data"
    }
   ],
   "source": [
    "# barplot showing results for policy 3 (both finite and infinite decks)\n",
    "plt.figure(figsize=(10, 6))\n",
    "sns.barplot(data=policy3_combined, x='Run', y='Win Rate', hue='Deck Type', palette={'Finite': '#000aff', 'Infinite': '#ffb700'})\n",
    "plt.title(\"Win Rate by Deck Type\")\n",
    "plt.ylabel(\"Win Rate (%)\")\n",
    "plt.ylim(37, 40)\n",
    "\n",
    "#UNCOMMENT LINE BELOW TO SAVE FIGURE AS PNG\n",
    "#plt.savefig(\"policy3_combined_winrate.png\")\n",
    "plt.show()"
   ]
  },
  {
   "cell_type": "code",
   "execution_count": 50,
   "id": "a07903d9-0860-43dc-841d-85f8bde4aa68",
   "metadata": {},
   "outputs": [
    {
     "data": {
      "image/png": "[encoded data removed]",
      "text/plain": [
       "<Figure size 1000x600 with 1 Axes>"
      ]
     },
     "metadata": {},
     "output_type": "display_data"
    }
   ],
   "source": [
    "# barplot showing results for policy 4 (both finite and infinite decks)\n",
    "plt.figure(figsize=(10, 6))\n",
    "sns.barplot(data=policy4_combined, x='Run', y='Win Rate', hue='Deck Type', palette={'Finite': '#000aff', 'Infinite': '#ffb700'})\n",
    "plt.title(\"Win Rate by Deck Type\")\n",
    "plt.ylabel(\"Win Rate (%)\")\n",
    "plt.ylim(40, 43)\n",
    "\n",
    "#UNCOMMENT LINE BELOW TO SAVE FIGURE AS PNG\n",
    "#plt.savefig(\"policy4_combined_winrate.png\")\n",
    "plt.show()"
   ]
  },
  {
   "cell_type": "code",
   "execution_count": 51,
   "id": "abab29f8-6e84-4ae3-8a6f-726c0529a668",
   "metadata": {},
   "outputs": [
    {
     "data": {
      "image/png": "[encoded data removed]",
      "text/plain": [
       "<Figure size 1000x600 with 1 Axes>"
      ]
     },
     "metadata": {},
     "output_type": "display_data"
    }
   ],
   "source": [
    "# barplot showing results for policy 5 (both finite and infinite decks)\n",
    "plt.figure(figsize=(10, 6))\n",
    "sns.barplot(data=policy5_combined, x='Run', y='Win Rate', hue='Deck Type', palette={'Finite': '#000aff', 'Infinite': '#ffb700'})\n",
    "plt.title(\"Win Rate by Deck Type\")\n",
    "plt.ylabel(\"Win Rate (%)\")\n",
    "plt.ylim(42, 45)\n",
    "\n",
    "#UNCOMMENT LINE BELOW TO SAVE FIGURE AS PNG\n",
    "#plt.savefig(\"policy5_combined_winrate.png\")\n",
    "plt.show()"
   ]
  },
  {
   "cell_type": "code",
   "execution_count": 52,
   "id": "2d9bf439-73d8-4986-961f-e712628c3465",
   "metadata": {},
   "outputs": [
    {
     "data": {
      "image/png": "[encoded data removed]",
      "text/plain": [
       "<Figure size 1000x600 with 1 Axes>"
      ]
     },
     "metadata": {},
     "output_type": "display_data"
    }
   ],
   "source": [
    "# barplot showing results for all policies (both finite and infinite decks)\n",
    "plt.figure(figsize=(10, 6))\n",
    "sns.barplot(data=all_policies_combined, x='Policy', y='Win Rate', hue='Deck Type', palette={'Finite': '#000aff', 'Infinite': '#ffb700'})\n",
    "plt.title(\"Win Rate by Policy and Deck Type\")\n",
    "plt.ylabel(\"Win Rate (%)\")\n",
    "plt.ylim(38, 45)\n",
    "\n",
    "#UNCOMMENT LINE BELOW TO SAVE FIGURE AS PNG\n",
    "#plt.savefig(\"all_policies_combined_winrate.png\")\n",
    "plt.show()"
   ]
  },
  {
   "cell_type": "code",
   "execution_count": null,
   "id": "deafe61a-bc7a-4de7-b764-b19b0a3c48bc",
   "metadata": {},
   "outputs": [],
   "source": [
    "#UNCOMMENT LINES BELOW TO SAVE RESULTS AS .CSV\n",
    "\n",
    "#policy1_combined.to_csv(\"policy1_results.csv\", index=False)\n",
    "#policy2_combined.to_csv(\"policy2_results.csv\", index=False)\n",
    "#policy3_combined.to_csv(\"policy3_results.csv\", index=False)\n",
    "#policy4_combined.to_csv(\"policy4_results.csv\", index=False)\n",
    "#policy5_combined.to_csv(\"policy5_results.csv\", index=False)"
   ]
  }
 ],
 "metadata": {
  "kernelspec": {
   "display_name": "Python 3 (ipykernel)",
   "language": "python",
   "name": "python3"
  },
  "language_info": {
   "codemirror_mode": {
    "name": "ipython",
    "version": 3
   },
   "file_extension": ".py",
   "mimetype": "text/x-python",
   "name": "python",
   "nbconvert_exporter": "python",
   "pygments_lexer": "ipython3",
   "version": "3.11.9"
  }
 },
 "nbformat": 4,
 "nbformat_minor": 5
}
